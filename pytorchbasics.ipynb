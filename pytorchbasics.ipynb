{
 "cells": [
  {
   "cell_type": "code",
   "execution_count": 1,
   "metadata": {},
   "outputs": [
    {
     "data": {
      "text/plain": [
       "tensor([[0.7209, 0.6818, 0.6597, 0.1681, 0.1933, 0.8446, 0.9580, 0.5524, 0.3327,\n",
       "         0.3172, 0.0236, 0.2881, 0.3359, 0.4647, 0.2711]], device='cuda:0')"
      ]
     },
     "execution_count": 1,
     "metadata": {},
     "output_type": "execute_result"
    }
   ],
   "source": [
    "import torch\n",
    "# Create Tensor in GPU\n",
    "device = torch.device(\"cuda:0\" if torch.cuda.is_available() else \"cpu\")\n",
    "x = torch.rand(5, 3).cuda(device=device)\n",
    "\n",
    "y = torch.rand(5, 3).cuda(device=device)\n",
    "\n",
    "# Add two tensors\n",
    "z = x + y\n",
    "\n",
    "# Multiply two tensors\n",
    "z = x * y\n",
    "\n",
    "# Create Tensor in CPU\n",
    "\n",
    "\n",
    "# x=x.to('cpu')\n",
    "\n",
    "x.view(3,5)\n",
    "y = y.view(1,15)\n",
    "y #view is used to change dimension of Array\n",
    "# x = torch.rand(500, 3)"
   ]
  },
  {
   "cell_type": "code",
   "execution_count": 26,
   "metadata": {},
   "outputs": [
    {
     "data": {
      "text/plain": [
       "(tensor([[0.9537, 0.0260, 0.6938],\n",
       "         [0.8048, 0.7529, 0.6489],\n",
       "         [0.9388, 0.5025, 0.3051],\n",
       "         [0.8198, 0.1100, 0.9250],\n",
       "         [0.3323, 0.7950, 0.2505]], device='cuda:0'),\n",
       " tensor([[0.0221, 0.0987, 0.6055],\n",
       "         [0.6901, 0.5003, 0.6683],\n",
       "         [0.2110, 0.0549, 0.0869],\n",
       "         [0.0396, 0.5597, 0.4842],\n",
       "         [0.0616, 0.2345, 0.9398]], device='cuda:0'),\n",
       " tensor([[0.9758, 0.1247, 1.2993],\n",
       "         [1.4950, 1.2532, 1.3173],\n",
       "         [1.1498, 0.5574, 0.3919],\n",
       "         [0.8594, 0.6698, 1.4092],\n",
       "         [0.3939, 1.0295, 1.1903]], device='cuda:0'))"
      ]
     },
     "execution_count": 26,
     "metadata": {},
     "output_type": "execute_result"
    }
   ],
   "source": [
    "x,y,z"
   ]
  },
  {
   "cell_type": "code",
   "execution_count": null,
   "metadata": {},
   "outputs": [],
   "source": []
  }
 ],
 "metadata": {
  "kernelspec": {
   "display_name": ".myenv",
   "language": "python",
   "name": "python3"
  },
  "language_info": {
   "codemirror_mode": {
    "name": "ipython",
    "version": 3
   },
   "file_extension": ".py",
   "mimetype": "text/x-python",
   "name": "python",
   "nbconvert_exporter": "python",
   "pygments_lexer": "ipython3",
   "version": "3.11.4"
  },
  "orig_nbformat": 4
 },
 "nbformat": 4,
 "nbformat_minor": 2
}
