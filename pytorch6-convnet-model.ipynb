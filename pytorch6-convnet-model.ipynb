{
 "cells": [
  {
   "cell_type": "code",
   "execution_count": 57,
   "metadata": {},
   "outputs": [
    {
     "name": "stdout",
     "output_type": "stream",
     "text": [
      "305\n"
     ]
    }
   ],
   "source": [
    "import os\n",
    "import cv2\n",
    "import numpy as np\n",
    "from tqdm import tqdm  # To see Progress\n",
    "\n",
    "REBUILD_DATA = False  #Only Rebuild first time (preprocess data first time)\n",
    "\n",
    "class HappyOrSad():\n",
    "    IMG_SIZE = 50   #Change size to 50X50\n",
    "\n",
    "    HAPPY = \"FaceExpression/happy\"\n",
    "    SAD = \"FaceExpression/sad\"\n",
    "\n",
    "    LABELS = {HAPPY: 0,SAD: 1}\n",
    "\n",
    "    training_data = []\n",
    "\n",
    "    happyCount = 0\n",
    "    sadCount = 0\n",
    "\n",
    "    def make_training_data(self):\n",
    "        for label in self.LABELS:\n",
    "            print(label)\n",
    "            for f in tqdm(os.listdir(label)):\n",
    "                try:\n",
    "                    path = os.path.join(label,f)\n",
    "                    img = cv2.imread(path,cv2.IMREAD_GRAYSCALE)\n",
    "                    img = cv2.resize(img,(self.IMG_SIZE,self.IMG_SIZE))\n",
    "                    self.training_data.append([np.array(img),np.eye(2)[self.LABELS[label]]])\n",
    "\n",
    "                    if label==self.SAD:\n",
    "                        self.sadCount +=1\n",
    "                    elif label == self.HAPPY:\n",
    "                        self.happyCount+=1\n",
    "                except Exception as e:\n",
    "                    # pass\n",
    "                    print(e)\n",
    "        np.random.shuffle(self.training_data)\n",
    "        np.save(\"training_data.npy\",self.training_data)\n",
    "        print(\"SAD  : \",self.sadCount)\n",
    "        print(\"HAPPY  : \",self.happyCount)\n",
    "\n",
    "\n",
    "if REBUILD_DATA:\n",
    "    happyorsad = HappyOrSad()\n",
    "    happyorsad.make_training_data()       \n",
    "\n",
    "training_data = np.load(\"training_data.npy\",allow_pickle=True)\n",
    "print(len(training_data))"
   ]
  },
  {
   "cell_type": "code",
   "execution_count": 58,
   "metadata": {},
   "outputs": [
    {
     "data": {
      "image/png": "[encoded data removed]",
      "text/plain": [
       "<Figure size 640x480 with 1 Axes>"
      ]
     },
     "metadata": {},
     "output_type": "display_data"
    }
   ],
   "source": [
    "import matplotlib.pyplot as plt\n",
    "img_num = 1\n",
    "plt.imshow(training_data[img_num][0],cmap=\"gray\")\n",
    "# Add label in plot (0 for happy and 1 for sad)\n",
    "if np.where(training_data[img_num][1]==1)[0][0]==0:\n",
    "    plt.title(\"Happy\")\n",
    "elif np.where(training_data[img_num][1]==1)[0][0]==1:\n",
    "    plt.title(\"Sad\")\n",
    "\n",
    "plt.show()\n"
   ]
  },
  {
   "cell_type": "code",
   "execution_count": 59,
   "metadata": {},
   "outputs": [],
   "source": [
    "import torch\n",
    "import torch.nn as nn\n",
    "import torch.nn.functional as F\n",
    "\n",
    "class Net(nn.Module):\n",
    "    def __init__(self, *args, **kwargs) -> None:\n",
    "        super().__init__(*args, **kwargs)\n",
    "        self.conv1 = nn.Conv2d(1,32,5) # 1 input image channel, 32 output channels, 5x5 square convolution kernel\n",
    "        self.conv2 = nn.Conv2d(32,64,5) # 32 input image channel, 64 output channels, 5x5 square convolution kernel\n",
    "        self.conv3 = nn.Conv2d(64,128,5) # 64 input image channel, 128 output channels, 5x5 square convolution kernel\n",
    "        x = torch.randn(50,50).view(-1, 1, 50, 50)\n",
    "        self._to_linear = None\n",
    "        self.convs(x)\n",
    "        self.fc1 = nn.Linear(self._to_linear,512) #  input features, 512 output features\n",
    "        self.fc2 = nn.Linear(512,2) # 512 input features, 2 output features\n",
    "    \n",
    "    def convs(self,x):\n",
    "        x = F.max_pool2d(F.relu(self.conv1(x)),(2,2)) # Max pooling over a (2,2) window\n",
    "        x = F.max_pool2d(F.relu(self.conv2(x)),(2,2)) # Max pooling over a (2,2) window\n",
    "        x = F.max_pool2d(F.relu(self.conv3(x)),(2,2)) # Max pooling over a (2,2) window\n",
    "\n",
    "        # print(x[0].shape)\n",
    "        if self._to_linear is None:\n",
    "            sh = x[0].shape\n",
    "            self._to_linear = sh[0]*sh[1]*sh[2]\n",
    "        return x\n",
    "    \n",
    "    def forward(self,x):\n",
    "        x = self.convs(x)\n",
    "        x = x.view(-1,self._to_linear)\n",
    "        x = F.relu(self.fc1(x))\n",
    "        x = self.fc2(x)\n",
    "        return F.softmax(x,dim=1) # activation function\n",
    "\n",
    "net = Net()\n",
    "    \n",
    "    "
   ]
  },
  {
   "cell_type": "code",
   "execution_count": 60,
   "metadata": {},
   "outputs": [
    {
     "name": "stdout",
     "output_type": "stream",
     "text": [
      "30\n"
     ]
    }
   ],
   "source": [
    "import torch.optim as optim\n",
    "\n",
    "optimizer = optim.Adam(net.parameters(),lr=0.001)\n",
    "loss_function= nn.MSELoss()\n",
    "\n",
    "X = torch.Tensor([i[0] for i in training_data]).view(-1,50,50)\n",
    "X = X / 255.0\n",
    "y = torch.Tensor([i[1] for i in training_data])\n",
    "\n",
    "VAL_PCT = 0.1 #VALIDATION DATA Percentage\n",
    "val_size = int(len(X)*VAL_PCT)\n",
    "print(val_size)"
   ]
  },
  {
   "cell_type": "code",
   "execution_count": 61,
   "metadata": {},
   "outputs": [
    {
     "name": "stdout",
     "output_type": "stream",
     "text": [
      "275\n",
      "30\n"
     ]
    }
   ],
   "source": [
    "train_X = X[:-val_size] \n",
    "train_y = y[:-val_size] \n",
    "\n",
    "test_X = X[-val_size:] \n",
    "test_y = y[-val_size:] \n",
    "\n",
    "print(len(train_X))\n",
    "print(len(test_X))"
   ]
  },
  {
   "cell_type": "code",
   "execution_count": 63,
   "metadata": {},
   "outputs": [
    {
     "name": "stderr",
     "output_type": "stream",
     "text": [
      "100%|██████████| 28/28 [00:00<00:00, 32.29it/s]"
     ]
    },
    {
     "name": "stdout",
     "output_type": "stream",
     "text": [
      "tensor(0.1193, grad_fn=<MseLossBackward0>)\n"
     ]
    },
    {
     "name": "stderr",
     "output_type": "stream",
     "text": [
      "\n"
     ]
    }
   ],
   "source": [
    "BATCH_SIZE = 10\n",
    "EPOCHS=1 \n",
    "\n",
    "for epoch in range(EPOCHS):\n",
    "    for i in tqdm(range(0,len(train_X),BATCH_SIZE)):\n",
    "        # print(i,i+BATCH_SIZE)\n",
    "        batch_X = train_X[i:i+BATCH_SIZE].view(-1,1,50,50)\n",
    "        # print(batch_X)\n",
    "        batch_y = train_y[i:i+BATCH_SIZE]\n",
    "        \n",
    "        optimizer.zero_grad() #Same as net.zero_grad() because we have passed net.parameters() in optimizer\n",
    "        outputs = net(batch_X)\n",
    "        \n",
    "        loss = loss_function(outputs,batch_y)\n",
    "        loss.backward()\n",
    "        optimizer.step()\n",
    "print(loss)\n",
    "\n"
   ]
  },
  {
   "cell_type": "code",
   "execution_count": 65,
   "metadata": {},
   "outputs": [
    {
     "name": "stderr",
     "output_type": "stream",
     "text": [
      "100%|██████████| 30/30 [00:00<00:00, 416.86it/s]"
     ]
    },
    {
     "name": "stdout",
     "output_type": "stream",
     "text": [
      "Accuracy :  0.8\n"
     ]
    },
    {
     "name": "stderr",
     "output_type": "stream",
     "text": [
      "\n"
     ]
    }
   ],
   "source": [
    "correct = 0\n",
    "total = 0\n",
    "with torch.no_grad():\n",
    "    for i in tqdm(range(len(test_X))):\n",
    "        real_class = torch.argmax(test_y[i])\n",
    "        net_out = net(test_X[i].view(-1,1,50,50))[0]\n",
    "        predicted_class = torch.argmax(net_out)\n",
    "        if predicted_class == real_class:\n",
    "            correct+=1\n",
    "        total+=1\n",
    "\n",
    "print(\"Accuracy : \",round(correct/total,3))\n",
    "\n",
    "\n",
    "# Remove last commit \n",
    "# git reset --hard HEAD~1"
   ]
  }
 ],
 "metadata": {
  "kernelspec": {
   "display_name": ".myenv",
   "language": "python",
   "name": "python3"
  },
  "language_info": {
   "codemirror_mode": {
    "name": "ipython",
    "version": 3
   },
   "file_extension": ".py",
   "mimetype": "text/x-python",
   "name": "python",
   "nbconvert_exporter": "python",
   "pygments_lexer": "ipython3",
   "version": "3.11.4"
  },
  "orig_nbformat": 4
 },
 "nbformat": 4,
 "nbformat_minor": 2
}
