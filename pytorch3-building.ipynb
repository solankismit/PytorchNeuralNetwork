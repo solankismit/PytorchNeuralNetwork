{
 "cells": [
  {
   "attachments": {},
   "cell_type": "markdown",
   "metadata": {},
   "source": [
    "# Getting The Data and Splitting it into Training and Testing"
   ]
  },
  {
   "cell_type": "code",
   "execution_count": 1,
   "metadata": {},
   "outputs": [],
   "source": [
    "import torch\n",
    "from torchvision import datasets, transforms\n",
    "from torch.utils.data import DataLoader\n",
    "\n",
    "train = datasets.MNIST(\"\",train=True,transform=transforms.Compose([transforms.ToTensor()]))\n",
    "test = datasets.MNIST(\"\",train=False,transform=transforms.Compose([transforms.ToTensor()]))\n",
    "\n",
    "trainset = DataLoader(dataset=train,batch_size=10,shuffle=True)\n",
    "testset = DataLoader(dataset=test,batch_size=10,shuffle=True)"
   ]
  },
  {
   "cell_type": "code",
   "execution_count": 11,
   "metadata": {},
   "outputs": [
    {
     "name": "stdout",
     "output_type": "stream",
     "text": [
      "torch.Size([1, 28, 28])\n"
     ]
    }
   ],
   "source": [
    "for data in trainset:\n",
    "    # print(data[0][0].shape)\n",
    "    print(data[0][0].shape)\n",
    "    break\n",
    "# Here We can see Each number is 28*28 pixel thats why we took input of 28*28 in Net. \n",
    "# We will Flat that to single row so that it can be understood by Network. \n",
    "# data[0][0].view(1,28*28) will be used to flatten it."
   ]
  },
  {
   "attachments": {},
   "cell_type": "markdown",
   "metadata": {},
   "source": [
    "# Building the Model"
   ]
  },
  {
   "cell_type": "code",
   "execution_count": 13,
   "metadata": {},
   "outputs": [],
   "source": [
    "import torch.nn as nn\n",
    "import torch.nn.functional as F\n"
   ]
  },
  {
   "cell_type": "code",
   "execution_count": 72,
   "metadata": {},
   "outputs": [
    {
     "name": "stdout",
     "output_type": "stream",
     "text": [
      "Net(\n",
      "  (fc1): Linear(in_features=784, out_features=64, bias=True)\n",
      "  (fc2): Linear(in_features=64, out_features=64, bias=True)\n",
      "  (fc3): Linear(in_features=64, out_features=64, bias=True)\n",
      "  (fc4): Linear(in_features=64, out_features=10, bias=True)\n",
      ")\n"
     ]
    }
   ],
   "source": [
    "class Net(nn.Module):\n",
    "    def __init__(self, *args, **kwargs) -> None:\n",
    "        super().__init__(*args, **kwargs)\n",
    "        self.fc1 = nn.Linear(28*28,64) #fully connected(fc) , nn.Linear(input,output) -->we can choose any number in output, that will be in number of neorons in hidden Layer\n",
    "        self.fc2 = nn.Linear(64,64) # output from the first layer must be input to second\n",
    "        self.fc3 = nn.Linear(64,64)\n",
    "        self.fc4 = nn.Linear(64,10) # Here there is 10 class Classification thats why we have taken 10 as output\n",
    "\n",
    "    def forward(self,x):\n",
    "\n",
    "        # Relu -- Rectified Linear Function\n",
    "        x = F.relu(self.fc1(x))\n",
    "        x = F.relu(self.fc2(x))\n",
    "        x = F.relu(self.fc3(x))\n",
    "        x = self.fc4(x)\n",
    "\n",
    "        print(x.shape)\n",
    "        # Why we are not using Relu in last layer?\n",
    "        # Because Relu is used to find the probability of the class.\n",
    "        # In last layer we have to find the probability distribution of the class.\n",
    "        # Softmax is used to find the probability distribution of the class.\n",
    "\n",
    "        return F.log_softmax(x,dim=1)\n",
    "net = Net()\n",
    "print(net) "
   ]
  },
  {
   "cell_type": "code",
   "execution_count": 114,
   "metadata": {},
   "outputs": [
    {
     "name": "stdout",
     "output_type": "stream",
     "text": [
      "torch.Size([1, 10])\n"
     ]
    },
    {
     "data": {
      "text/plain": [
       "tensor([[-2.3002, -2.1364, -2.3035, -2.2790, -2.3118, -2.2358, -2.4044, -2.2976,\n",
       "         -2.3776, -2.4099]], grad_fn=<LogSoftmaxBackward0>)"
      ]
     },
     "execution_count": 114,
     "metadata": {},
     "output_type": "execute_result"
    }
   ],
   "source": [
    "X = torch.rand((28,28))\n",
    "X = X.view(-1,28*28) # Flattening the input, -1 means we dont know how many rows are there but we know there are 28*28 columns\n",
    "output = net(X)\n",
    "output"
   ]
  }
 ],
 "metadata": {
  "kernelspec": {
   "display_name": ".myenv",
   "language": "python",
   "name": "python3"
  },
  "language_info": {
   "codemirror_mode": {
    "name": "ipython",
    "version": 3
   },
   "file_extension": ".py",
   "mimetype": "text/x-python",
   "name": "python",
   "nbconvert_exporter": "python",
   "pygments_lexer": "ipython3",
   "version": "3.11.4"
  },
  "orig_nbformat": 4
 },
 "nbformat": 4,
 "nbformat_minor": 2
}
