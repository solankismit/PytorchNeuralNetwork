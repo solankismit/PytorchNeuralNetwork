{
 "cells": [
  {
   "cell_type": "code",
   "execution_count": 1,
   "metadata": {},
   "outputs": [
    {
     "name": "stdout",
     "output_type": "stream",
     "text": [
      "Running on GPU\n",
      "305\n",
      "30\n",
      "275 30\n"
     ]
    },
    {
     "name": "stderr",
     "output_type": "stream",
     "text": [
      "C:\\Users\\smit2\\AppData\\Local\\Temp\\ipykernel_15724\\4075253867.py:98: UserWarning: Creating a tensor from a list of numpy.ndarrays is extremely slow. Please consider converting the list to a single numpy.ndarray with numpy.array() before converting to a tensor. (Triggered internally at ..\\torch\\csrc\\utils\\tensor_new.cpp:248.)\n",
      "  X = torch.Tensor([i[0] for i in training_data]).view(-1,50,50)\n"
     ]
    }
   ],
   "source": [
    "import os\n",
    "import cv2\n",
    "import numpy as np\n",
    "from tqdm import tqdm  # To see Progress\n",
    "import torch\n",
    "import torch.nn as nn\n",
    "import torch.nn.functional as F\n",
    "import torch.optim as optim\n",
    "\n",
    "REBUILD_DATA = False  #Only Rebuild first time (preprocess data first time)\n",
    "\n",
    "class HappyOrSad():\n",
    "    IMG_SIZE = 50   #Change size to 50X50\n",
    "\n",
    "    HAPPY = \"FaceExpression/happy\"\n",
    "    SAD = \"FaceExpression/sad\"\n",
    "\n",
    "    LABELS = {HAPPY: 0,SAD: 1}\n",
    "\n",
    "    training_data = []\n",
    "\n",
    "    happyCount = 0\n",
    "    sadCount = 0\n",
    "\n",
    "    def make_training_data(self):\n",
    "        for label in self.LABELS:\n",
    "            print(label)\n",
    "            for f in tqdm(os.listdir(label)):\n",
    "                try:\n",
    "                    path = os.path.join(label,f)\n",
    "                    img = cv2.imread(path,cv2.IMREAD_GRAYSCALE)\n",
    "                    img = cv2.resize(img,(self.IMG_SIZE,self.IMG_SIZE))\n",
    "                    self.training_data.append([np.array(img),np.eye(2)[self.LABELS[label]]])\n",
    "\n",
    "                    if label==self.SAD:\n",
    "                        self.sadCount +=1\n",
    "                    elif label == self.HAPPY:\n",
    "                        self.happyCount+=1\n",
    "                except Exception as e:\n",
    "                    # pass\n",
    "                    print(e)\n",
    "        np.random.shuffle(self.training_data)\n",
    "        np.save(\"training_data.npy\",self.training_data)\n",
    "        print(\"SAD  : \",self.sadCount)\n",
    "        print(\"HAPPY  : \",self.happyCount)\n",
    "\n",
    "class Net(nn.Module):\n",
    "    def __init__(self, *args, **kwargs) -> None:\n",
    "        super().__init__(*args, **kwargs)\n",
    "        self.conv1 = nn.Conv2d(1,32,5) # 1 input image channel, 32 output channels, 5x5 square convolution kernel\n",
    "        self.conv2 = nn.Conv2d(32,64,5) # 32 input image channel, 64 output channels, 5x5 square convolution kernel\n",
    "        self.conv3 = nn.Conv2d(64,128,5) # 64 input image channel, 128 output channels, 5x5 square convolution kernel\n",
    "\n",
    "        x = torch.randn(50,50).view(-1, 1, 50, 50)\n",
    "        self._to_linear = None\n",
    "        self.convs(x)\n",
    "        self.fc1 = nn.Linear(self._to_linear,512) #  input features, 512 output features\n",
    "        self.fc2 = nn.Linear(512,2) # 512 input features, 2 output features\n",
    "    \n",
    "    def convs(self,x):\n",
    "        x = F.max_pool2d(F.relu(self.conv1(x)),(2,2)) # Max pooling over a (2,2) window\n",
    "        x = F.max_pool2d(F.relu(self.conv2(x)),(2,2)) # Max pooling over a (2,2) window\n",
    "        x = F.max_pool2d(F.relu(self.conv3(x)),(2,2)) # Max pooling over a (2,2) window\n",
    "\n",
    "        # print(x[0].shape)\n",
    "        if self._to_linear is None:\n",
    "            sh = x[0].shape\n",
    "            self._to_linear = sh[0]*sh[1]*sh[2]\n",
    "        return x\n",
    "    \n",
    "    def forward(self,x):\n",
    "        x = self.convs(x)\n",
    "        x = x.view(-1,self._to_linear)\n",
    "        x = F.relu(self.fc1(x))\n",
    "        x = self.fc2(x)\n",
    "        return F.softmax(x,dim=1) # activation function\n",
    "    \n",
    "\n",
    "if torch.cuda.is_available():\n",
    "    device = torch.device(\"cuda:0\")\n",
    "    print(\"Running on GPU\")\n",
    "else:\n",
    "    device = torch.device(\"cpu\")\n",
    "    print(\"Running on CPU\")\n",
    "\n",
    "net = Net().to(device)\n",
    "\n",
    "if REBUILD_DATA:\n",
    "    happyorsad = HappyOrSad()\n",
    "    happyorsad.make_training_data()       \n",
    "\n",
    "training_data = np.load(\"training_data.npy\",allow_pickle=True)\n",
    "print(len(training_data))\n",
    "\n",
    "optimizer = optim.Adam(net.parameters(),lr=0.001)\n",
    "loss_function = nn.MSELoss()\n",
    "\n",
    "X = torch.Tensor([i[0] for i in training_data]).view(-1,50,50)\n",
    "X = X/255.0\n",
    "y = torch.Tensor([i[1] for i in training_data])\n",
    "\n",
    "VAL_PCT = 0.1\n",
    "val_size = int(len(X)*VAL_PCT)\n",
    "print(val_size)\n",
    "\n",
    "train_X = X[:-val_size]\n",
    "train_y = y[:-val_size]\n",
    "\n",
    "test_X = X[-val_size:]\n",
    "test_y = y[-val_size:]\n",
    "\n",
    "print(len(train_X),len(test_X))"
   ]
  },
  {
   "cell_type": "code",
   "execution_count": 2,
   "metadata": {},
   "outputs": [],
   "source": [
    "def fwd_pass(X,y,train = False):\n",
    "    if train:\n",
    "        net.zero_grad()\n",
    "    # print(X)\n",
    "    outputs = net(X)\n",
    "    # print(outputs)\n",
    "    matches = [torch.argmax(i)==torch.argmax(j) for i,j in zip(outputs,y)]\n",
    "    # print(matches)\n",
    "    acc = matches.count(True)/len(matches)\n",
    "    loss = loss_function(outputs,y)\n",
    "\n",
    "    if train:\n",
    "        loss.backward()\n",
    "        optimizer.step()\n",
    "    return acc,loss\n",
    "\n"
   ]
  },
  {
   "cell_type": "code",
   "execution_count": 3,
   "metadata": {},
   "outputs": [
    {
     "name": "stdout",
     "output_type": "stream",
     "text": [
      "0.5 tensor(0.2491, device='cuda:0')\n"
     ]
    }
   ],
   "source": [
    "def test(size = 10):\n",
    "    # Get Random 10 samples\n",
    "    random_start = np.random.randint(len(test_X)-size)\n",
    "    X,y = test_X[random_start:random_start+size],test_y[random_start:random_start+size]\n",
    "    with torch.no_grad():\n",
    "        val_acc,val_loss = fwd_pass(X.view(-1,1,50,50).to(device),y.to(device))\n",
    "    return val_acc,val_loss\n",
    "\n",
    "val_acc,val_loss = test()\n",
    "print(val_acc,val_loss)"
   ]
  },
  {
   "cell_type": "code",
   "execution_count": 4,
   "metadata": {},
   "outputs": [
    {
     "name": "stdout",
     "output_type": "stream",
     "text": [
      "MODEL - 1686746741\n"
     ]
    },
    {
     "name": "stderr",
     "output_type": "stream",
     "text": [
      "100%|██████████| 14/14 [00:01<00:00,  7.09it/s]\n",
      "100%|██████████| 14/14 [00:00<00:00, 24.97it/s]\n",
      "100%|██████████| 14/14 [00:00<00:00, 33.68it/s]\n",
      "100%|██████████| 14/14 [00:00<00:00, 31.78it/s]\n",
      "100%|██████████| 14/14 [00:00<00:00, 33.43it/s]\n",
      "100%|██████████| 14/14 [00:00<00:00, 32.01it/s]\n",
      "100%|██████████| 14/14 [00:00<00:00, 31.59it/s]\n",
      "100%|██████████| 14/14 [00:00<00:00, 33.21it/s]\n",
      "100%|██████████| 14/14 [00:00<00:00, 33.89it/s]\n",
      "100%|██████████| 14/14 [00:00<00:00, 42.99it/s]\n"
     ]
    }
   ],
   "source": [
    "import time \n",
    "\n",
    "MODEL_NAME = f\"MODEL - {int(time.time())}\"\n",
    "\n",
    "net = Net().to(device=device)\n",
    "optimizer = optim.Adam(net.parameters(),lr=0.001)\n",
    "loss_function = nn.MSELoss()\n",
    "\n",
    "print(MODEL_NAME)\n",
    "\n",
    "def train():\n",
    "    BATCH_SIZE = 20\n",
    "    EPOCHS = 10\n",
    "    with open(\"model.log\",\"a\") as f:\n",
    "        for epoch in range(EPOCHS):\n",
    "            for i in tqdm(range(0,len(train_X),BATCH_SIZE)):\n",
    "                batch_X = train_X[i:i+BATCH_SIZE].view(-1,1,50,50).to(device)\n",
    "                batch_y = train_y[i:i+BATCH_SIZE].to(device)\n",
    "\n",
    "                acc,loss = fwd_pass(train=True,X=batch_X,y=batch_y)\n",
    "                if i%5 == 0:\n",
    "                   val_acc, val_loss = test(size = 10)\n",
    "                   f.write(f\"{MODEL_NAME},{round(time.time(),3)},{round(float(acc),2)},{round(float(loss),4)},{round(float(val_acc),2)},{round(float(val_loss),4)}\\n\")\n",
    "train()\n",
    "                "
   ]
  }
 ],
 "metadata": {
  "kernelspec": {
   "display_name": ".myenv",
   "language": "python",
   "name": "python3"
  },
  "language_info": {
   "codemirror_mode": {
    "name": "ipython",
    "version": 3
   },
   "file_extension": ".py",
   "mimetype": "text/x-python",
   "name": "python",
   "nbconvert_exporter": "python",
   "pygments_lexer": "ipython3",
   "version": "3.11.4"
  },
  "orig_nbformat": 4
 },
 "nbformat": 4,
 "nbformat_minor": 2
}
