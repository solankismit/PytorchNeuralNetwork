{
 "cells": [
  {
   "cell_type": "code",
   "execution_count": 21,
   "metadata": {},
   "outputs": [],
   "source": [
    "import os\n",
    "import cv2\n",
    "import numpy as np\n",
    "from tqdm import tqdm  # To see Progress\n",
    "\n",
    "REBUILD_DATA = False  #Only Rebuild first time (preprocess data first time)\n",
    "\n",
    "class HappyOrSad():\n",
    "    IMG_SIZE = 50   #Change size to 50X50\n",
    "\n",
    "    HAPPY = \"FaceExpression/happy\"\n",
    "    SAD = \"FaceExpression/sad\"\n",
    "\n",
    "    LABELS = {HAPPY: 0,SAD: 1}\n",
    "\n",
    "    training_data = []\n",
    "\n",
    "    happyCount = 0\n",
    "    sadCount = 0\n",
    "\n",
    "    def make_training_data(self):\n",
    "        for label in self.LABELS:\n",
    "            print(label)\n",
    "            for f in tqdm(os.listdir(label)):\n",
    "                try:\n",
    "                    path = os.path.join(label,f)\n",
    "                    img = cv2.imread(path,cv2.IMREAD_GRAYSCALE)\n",
    "                    img = cv2.resize(img,(self.IMG_SIZE,self.IMG_SIZE))\n",
    "                    self.training_data.append([np.array(img),np.eye(2)[self.LABELS[label]]])\n",
    "\n",
    "                    if label==self.SAD:\n",
    "                        self.sadCount +=1\n",
    "                    elif label == self.HAPPY:\n",
    "                        self.happyCount+=1\n",
    "                except Exception as e:\n",
    "                    # pass\n",
    "                    print(e)\n",
    "        np.random.shuffle(self.training_data)\n",
    "        np.save(\"training_data.npy\",self.training_data)\n",
    "        print(\"SAD  : \",self.sadCount)\n",
    "        print(\"HAPPY  : \",self.happyCount)\n",
    "\n",
    "\n",
    "if REBUILD_DATA:\n",
    "    happyorsad = HappyOrSad()\n",
    "    happyorsad.make_training_data()       \n"
   ]
  },
  {
   "cell_type": "code",
   "execution_count": 22,
   "metadata": {},
   "outputs": [
    {
     "data": {
      "text/plain": [
       "array([1., 0.])"
      ]
     },
     "execution_count": 22,
     "metadata": {},
     "output_type": "execute_result"
    }
   ],
   "source": [
    "np.eye(2)[0]\n",
    "# np.eye(2)\n",
    "# [[1,0],\n",
    "#  [0,1]]"
   ]
  },
  {
   "cell_type": "code",
   "execution_count": 25,
   "metadata": {},
   "outputs": [],
   "source": [
    "training_data = np.load(\"training_data.npy\",allow_pickle=True)"
   ]
  },
  {
   "cell_type": "code",
   "execution_count": 27,
   "metadata": {},
   "outputs": [
    {
     "data": {
      "text/plain": [
       "305"
      ]
     },
     "execution_count": 27,
     "metadata": {},
     "output_type": "execute_result"
    }
   ],
   "source": [
    "len(training_data)"
   ]
  },
  {
   "cell_type": "code",
   "execution_count": 29,
   "metadata": {},
   "outputs": [
    {
     "data": {
      "text/plain": [
       "array([array([[152, 173, 165, ..., 229, 211, 210],\n",
       "              [151, 173, 168, ..., 217, 208, 208],\n",
       "              [154, 174, 169, ..., 201, 190, 193],\n",
       "              ...,\n",
       "              [230, 229, 226, ..., 221, 226, 224],\n",
       "              [231, 228, 228, ..., 211, 226, 225],\n",
       "              [231, 223, 220, ..., 210, 224, 224]], dtype=uint8),\n",
       "       array([0., 1.])], dtype=object)"
      ]
     },
     "execution_count": 29,
     "metadata": {},
     "output_type": "execute_result"
    }
   ],
   "source": [
    "training_data[0]"
   ]
  },
  {
   "cell_type": "code",
   "execution_count": 41,
   "metadata": {},
   "outputs": [
    {
     "data": {
      "text/plain": [
       "<matplotlib.image.AxesImage at 0x20adbb515d0>"
      ]
     },
     "execution_count": 41,
     "metadata": {},
     "output_type": "execute_result"
    },
    {
     "data": {
      "image/png": "[encoded data removed]",
      "text/plain": [
       "<Figure size 640x480 with 1 Axes>"
      ]
     },
     "metadata": {},
     "output_type": "display_data"
    }
   ],
   "source": [
    "import matplotlib.pyplot as plt\n",
    "plt.imshow(training_data[1][0],cmap=\"gray\")"
   ]
  },
  {
   "cell_type": "code",
   "execution_count": 42,
   "metadata": {},
   "outputs": [
    {
     "data": {
      "text/plain": [
       "array([0., 1.])"
      ]
     },
     "execution_count": 42,
     "metadata": {},
     "output_type": "execute_result"
    }
   ],
   "source": [
    "training_data[1][1]"
   ]
  }
 ],
 "metadata": {
  "kernelspec": {
   "display_name": ".myenv",
   "language": "python",
   "name": "python3"
  },
  "language_info": {
   "name": "python",
   "version": "3.11.4"
  },
  "orig_nbformat": 4
 },
 "nbformat": 4,
 "nbformat_minor": 2
}
